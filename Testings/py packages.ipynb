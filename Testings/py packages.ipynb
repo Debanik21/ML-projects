{
 "cells": [
  {
   "cell_type": "code",
   "execution_count": null,
   "metadata": {},
   "outputs": [],
   "source": [
    "!pip install modin[ray]"
   ]
  },
  {
   "cell_type": "code",
   "execution_count": null,
   "metadata": {},
   "outputs": [],
   "source": []
  },
  {
   "cell_type": "code",
   "execution_count": null,
   "metadata": {},
   "outputs": [],
   "source": [
    "!pip install xgboost scikit-learn-intelex torch==2.0.1 torchvision==0.15.2 intel_extension_for_pytorch==2.0.100 oneccl-bind-pt==2.0.0 --extra-index-url https://pytorch-extension.intel.com/release-whl/stable/cpu/us/ modin[ray] neural-compressor"
   ]
  },
  {
   "cell_type": "code",
   "execution_count": 2,
   "metadata": {},
   "outputs": [
    {
     "name": "stdout",
     "output_type": "stream",
     "text": [
      "Looking in indexes: https://pypi.org/simple, https://pytorch-extension.intel.com/release-whl-aitools/\n",
      "Requirement already satisfied: xgboost in c:\\users\\debna\\downloads\\anaconda33\\lib\\site-packages (1.7.6)\n",
      "Requirement already satisfied: scikit-learn-intelex in c:\\users\\debna\\downloads\\anaconda33\\lib\\site-packages (20230426.121932)\n"
     ]
    },
    {
     "name": "stderr",
     "output_type": "stream",
     "text": [
      "ERROR: Could not find a version that satisfies the requirement torch==2.0.1a0 (from versions: 2.0.0, 2.0.1, 2.1.0, 2.1.1, 2.1.2)\n",
      "ERROR: No matching distribution found for torch==2.0.1a0\n"
     ]
    }
   ],
   "source": [
    "!pip install xgboost scikit-learn-intelex torch==2.0.1a0 intel-extension-for-pytorch==2.0.120+xpu oneccl-bind-pt==2.0.200 torchvision==0.15.2a0 --extra-index-url https://pytorch-extension.intel.com/release-whl-aitools/ modin[ray] neural-compressor"
   ]
  }
 ],
 "metadata": {
  "kernelspec": {
   "display_name": "base",
   "language": "python",
   "name": "python3"
  },
  "language_info": {
   "codemirror_mode": {
    "name": "ipython",
    "version": 3
   },
   "file_extension": ".py",
   "mimetype": "text/x-python",
   "name": "python",
   "nbconvert_exporter": "python",
   "pygments_lexer": "ipython3",
   "version": "3.11.4"
  }
 },
 "nbformat": 4,
 "nbformat_minor": 2
}
